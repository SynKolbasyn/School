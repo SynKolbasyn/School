{
 "cells": [
  {
   "cell_type": "code",
   "execution_count": 1,
   "metadata": {},
   "outputs": [],
   "source": [
    "import pandas as pd\n",
    "import numpy as np"
   ]
  },
  {
   "cell_type": "code",
   "execution_count": 7,
   "metadata": {},
   "outputs": [
    {
     "name": "stdout",
     "output_type": "stream",
     "text": [
      "0      42.071361\n",
      "1      30.666473\n",
      "2      42.705091\n",
      "3      32.061351\n",
      "4      72.133743\n",
      "         ...    \n",
      "795    47.670886\n",
      "796    56.580674\n",
      "797   -17.697082\n",
      "798    34.357575\n",
      "799    41.920340\n",
      "Length: 800, dtype: float64\n",
      "0     -20.051129\n",
      "1      47.056119\n",
      "2      53.570817\n",
      "3     -23.889974\n",
      "4      -5.720085\n",
      "         ...    \n",
      "795    46.910355\n",
      "796    39.811340\n",
      "797    15.962380\n",
      "798    69.241170\n",
      "799    73.653118\n",
      "Length: 800, dtype: float64\n"
     ]
    }
   ],
   "source": [
    "temp1 = pd.Series(np.random.rand(800) * 107 - 30)\n",
    "temp2 = pd.Series(np.random.rand(800) * 107 - 30)\n",
    "\n",
    "print(temp1)\n",
    "print(temp2)"
   ]
  },
  {
   "cell_type": "code",
   "execution_count": 11,
   "metadata": {},
   "outputs": [
    {
     "name": "stdout",
     "output_type": "stream",
     "text": [
      "0      42.071361\n",
      "1      30.666473\n",
      "2      42.705091\n",
      "3      32.061351\n",
      "4      72.133743\n",
      "         ...    \n",
      "794    48.482226\n",
      "795    47.670886\n",
      "796    56.580674\n",
      "798    34.357575\n",
      "799    41.920340\n",
      "Length: 553, dtype: float64\n",
      "0     -20.051129\n",
      "9     -26.113026\n",
      "12     -2.642049\n",
      "13    -12.387070\n",
      "19     66.840776\n",
      "         ...    \n",
      "784    34.140509\n",
      "787   -10.662119\n",
      "792    42.250721\n",
      "794    14.759682\n",
      "795    46.910355\n",
      "Length: 394, dtype: float64\n"
     ]
    }
   ],
   "source": [
    "temp1_new_1 = temp1[temp1 > 5]\n",
    "temp2_new_1 = temp2[temp2.astype(int) % 2 == 0]\n",
    "\n",
    "\n",
    "print(temp1_new_1)\n",
    "print(temp2_new_1)"
   ]
  },
  {
   "cell_type": "code",
   "execution_count": 4,
   "metadata": {},
   "outputs": [
    {
     "data": {
      "text/plain": [
       "6       8.927272\n",
       "8      -9.471473\n",
       "11    -21.005918\n",
       "13     26.729529\n",
       "16    -25.915440\n",
       "         ...    \n",
       "792    35.006197\n",
       "794    29.035098\n",
       "795     4.251810\n",
       "797   -12.910155\n",
       "798   -24.679144\n",
       "Length: 389, dtype: float64"
      ]
     },
     "execution_count": 4,
     "metadata": {},
     "output_type": "execute_result"
    }
   ],
   "source": [
    "temp3 = temp1[temp1 < temp2]\n",
    "\n",
    "print(temp3)"
   ]
  },
  {
   "cell_type": "code",
   "execution_count": 13,
   "metadata": {},
   "outputs": [
    {
     "name": "stdout",
     "output_type": "stream",
     "text": [
      "         temp1      temp2\n",
      "0    42.071361 -20.051129\n",
      "1    30.666473  47.056119\n",
      "2    42.705091  53.570817\n",
      "3    32.061351 -23.889974\n",
      "4    72.133743  -5.720085\n",
      "..         ...        ...\n",
      "795  47.670886  46.910355\n",
      "796  56.580674  39.811340\n",
      "797 -17.697082  15.962380\n",
      "798  34.357575  69.241170\n",
      "799  41.920340  73.653118\n",
      "\n",
      "[800 rows x 2 columns]\n"
     ]
    }
   ],
   "source": [
    "Temp = pd.DataFrame({\"temp1\": temp1, \"temp2\": temp2})\n",
    "\n",
    "print(Temp)"
   ]
  }
 ],
 "metadata": {
  "kernelspec": {
   "display_name": "venv",
   "language": "python",
   "name": "python3"
  },
  "language_info": {
   "codemirror_mode": {
    "name": "ipython",
    "version": 3
   },
   "file_extension": ".py",
   "mimetype": "text/x-python",
   "name": "python",
   "nbconvert_exporter": "python",
   "pygments_lexer": "ipython3",
   "version": "3.11.5"
  },
  "orig_nbformat": 4
 },
 "nbformat": 4,
 "nbformat_minor": 2
}
