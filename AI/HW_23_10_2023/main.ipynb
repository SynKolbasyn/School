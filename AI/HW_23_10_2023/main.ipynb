{
 "cells": [
  {
   "cell_type": "code",
   "execution_count": 5,
   "metadata": {},
   "outputs": [],
   "source": [
    "import numpy as np"
   ]
  },
  {
   "cell_type": "code",
   "execution_count": 44,
   "metadata": {},
   "outputs": [
    {
     "name": "stdout",
     "output_type": "stream",
     "text": [
      "[[3. 1. 1.]\n",
      " [1. 1. 0.]\n",
      " [1. 0. 1.]]\n",
      "[[-0.31666667  0.25        0.2        -0.21666667]\n",
      " [ 0.075       0.125      -0.1         0.025     ]\n",
      " [ 0.18333333 -0.25        0.2         0.28333333]\n",
      " [ 0.38333333 -0.25        0.1         0.18333333]]\n"
     ]
    }
   ],
   "source": [
    "# 1.4.43.\n",
    "\n",
    "m1 = np.matrix([[1, -1, -1], [-1, 2, 1], [-1, 1, 2]], dtype=np.float64)\n",
    "print(np.linalg.inv(m1))\n",
    "\n",
    "\n",
    "# 1.4.45\n",
    "\n",
    "m2 = np.matrix([[1, 2, -2, 4], [2, 6, 1, 0], [3, 0, 1, 2], [-1, 4, 5, -4]], dtype=np.float64)\n",
    "print(np.linalg.inv(m2))"
   ]
  },
  {
   "cell_type": "code",
   "execution_count": 43,
   "metadata": {},
   "outputs": [
    {
     "name": "stdout",
     "output_type": "stream",
     "text": [
      "[[-0.54545455  0.09090909]\n",
      " [-0.45454545  0.90909091]\n",
      " [ 1.18181818  0.63636364]]\n"
     ]
    }
   ],
   "source": [
    "# 5\n",
    "\n",
    "m3 = np.matrix([[-1, 2], [0, 5], [3, -1]], dtype=np.float64)\n",
    "m4 = np.matrix([[2, -3], [1, 4]], dtype=np.float64)\n",
    "print(m3 @ np.linalg.inv(m4))"
   ]
  },
  {
   "cell_type": "code",
   "execution_count": 52,
   "metadata": {},
   "outputs": [
    {
     "name": "stdout",
     "output_type": "stream",
     "text": [
      "[[ 26.]\n",
      " [-13.]\n",
      " [-25.]\n",
      " [ 36.]]\n",
      "[[170.]\n",
      " [ 78.]\n",
      " [194.]\n",
      " [244.]]\n"
     ]
    }
   ],
   "source": [
    "# 2.2.13\n",
    "\n",
    "m5 = np.matrix([[3, -5, 2, -4], [-3, 4, -5, 3], [-5, 7, -7, 5], [8, -8, 5, -6]], dtype=np.float64)\n",
    "m6 = np.matrix([[0], [-2], [-2], [-5]], dtype=np.float64)\n",
    "print(m5 @ m6)\n",
    "\n",
    "\n",
    "# 2.2.14\n",
    "\n",
    "m7 = np.matrix([[6, -5, 4, 7], [5, -8, 5, 8], [9, -8, 5, 10], [3, 2, 2, 2]], dtype=np.float64)\n",
    "m8 = np.matrix([[28], [36], [42], [2]], dtype=np.float64)\n",
    "print(m7 @ m8)"
   ]
  }
 ],
 "metadata": {
  "kernelspec": {
   "display_name": "venv",
   "language": "python",
   "name": "python3"
  },
  "language_info": {
   "codemirror_mode": {
    "name": "ipython",
    "version": 3
   },
   "file_extension": ".py",
   "mimetype": "text/x-python",
   "name": "python",
   "nbconvert_exporter": "python",
   "pygments_lexer": "ipython3",
   "version": "3.12.0"
  }
 },
 "nbformat": 4,
 "nbformat_minor": 2
}
